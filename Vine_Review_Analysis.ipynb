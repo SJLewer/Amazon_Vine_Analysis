{
  "nbformat": 4,
  "nbformat_minor": 0,
  "metadata": {
    "colab": {
      "name": "Vine_Review_Analysis.ipynb",
      "provenance": [],
      "collapsed_sections": []
    },
    "kernelspec": {
      "name": "python3",
      "display_name": "Python 3"
    },
    "language_info": {
      "name": "python"
    }
  },
  "cells": [
    {
      "cell_type": "code",
      "metadata": {
        "id": "V58rxea0HqSa",
        "colab": {
          "base_uri": "https://localhost:8080/"
        },
        "outputId": "40d1b6c7-0571-47a6-f1bd-c3587608f182"
      },
      "source": [
        "import os\n",
        "# Find the latest version of spark 3.0 from http://www.apache.org/dist/spark/ and enter as the spark version\n",
        "# For example:\n",
        "# spark_version = 'spark-3.0.3'\n",
        "spark_version = 'spark-3.0.3'\n",
        "os.environ['SPARK_VERSION']=spark_version\n",
        "\n",
        "# Install Spark and Java\n",
        "!apt-get update\n",
        "!apt-get install openjdk-11-jdk-headless -qq > /dev/null\n",
        "!wget -q http://www.apache.org/dist/spark/$SPARK_VERSION/$SPARK_VERSION-bin-hadoop2.7.tgz\n",
        "!tar xf $SPARK_VERSION-bin-hadoop2.7.tgz\n",
        "!pip install -q findspark\n",
        "\n",
        "# Set Environment Variables\n",
        "import os\n",
        "os.environ[\"JAVA_HOME\"] = \"/usr/lib/jvm/java-11-openjdk-amd64\"\n",
        "os.environ[\"SPARK_HOME\"] = f\"/content/{spark_version}-bin-hadoop2.7\"\n",
        "\n",
        "# Start a SparkSession\n",
        "import findspark\n",
        "findspark.init()"
      ],
      "execution_count": null,
      "outputs": [
        {
          "output_type": "stream",
          "name": "stdout",
          "text": [
            "\r0% [Working]\r            \rGet:1 https://cloud.r-project.org/bin/linux/ubuntu bionic-cran40/ InRelease [3,626 B]\n",
            "\r0% [Connecting to archive.ubuntu.com (91.189.88.152)] [Connecting to security.u\r0% [Connecting to archive.ubuntu.com (91.189.88.152)] [Connecting to security.u\r0% [1 InRelease gpgv 3,626 B] [Connecting to archive.ubuntu.com (91.189.88.152)\r                                                                               \rIgn:2 https://developer.download.nvidia.com/compute/cuda/repos/ubuntu1804/x86_64  InRelease\n",
            "\r0% [1 InRelease gpgv 3,626 B] [Waiting for headers] [Waiting for headers] [Wait\r                                                                               \rGet:3 http://security.ubuntu.com/ubuntu bionic-security InRelease [88.7 kB]\n",
            "Get:4 http://ppa.launchpad.net/c2d4u.team/c2d4u4.0+/ubuntu bionic InRelease [15.9 kB]\n",
            "Hit:5 http://archive.ubuntu.com/ubuntu bionic InRelease\n",
            "Ign:6 https://developer.download.nvidia.com/compute/machine-learning/repos/ubuntu1804/x86_64  InRelease\n",
            "Hit:7 https://developer.download.nvidia.com/compute/cuda/repos/ubuntu1804/x86_64  Release\n",
            "Hit:8 https://developer.download.nvidia.com/compute/machine-learning/repos/ubuntu1804/x86_64  Release\n",
            "Get:9 http://archive.ubuntu.com/ubuntu bionic-updates InRelease [88.7 kB]\n",
            "Hit:10 http://ppa.launchpad.net/cran/libgit2/ubuntu bionic InRelease\n",
            "Get:11 http://ppa.launchpad.net/deadsnakes/ppa/ubuntu bionic InRelease [15.9 kB]\n",
            "Hit:12 http://archive.ubuntu.com/ubuntu bionic-backports InRelease\n",
            "Get:13 http://ppa.launchpad.net/graphics-drivers/ppa/ubuntu bionic InRelease [21.3 kB]\n",
            "Get:14 http://ppa.launchpad.net/c2d4u.team/c2d4u4.0+/ubuntu bionic/main Sources [1,822 kB]\n",
            "Get:17 http://ppa.launchpad.net/c2d4u.team/c2d4u4.0+/ubuntu bionic/main amd64 Packages [934 kB]\n",
            "Get:18 http://security.ubuntu.com/ubuntu bionic-security/restricted amd64 Packages [716 kB]\n",
            "Get:19 http://security.ubuntu.com/ubuntu bionic-security/universe amd64 Packages [1,459 kB]\n",
            "Get:20 http://security.ubuntu.com/ubuntu bionic-security/main amd64 Packages [2,489 kB]\n",
            "Get:21 http://security.ubuntu.com/ubuntu bionic-security/multiverse amd64 Packages [26.8 kB]\n",
            "Get:22 http://archive.ubuntu.com/ubuntu bionic-updates/main amd64 Packages [2,929 kB]\n",
            "Get:23 http://archive.ubuntu.com/ubuntu bionic-updates/restricted amd64 Packages [749 kB]\n",
            "Get:24 http://archive.ubuntu.com/ubuntu bionic-updates/multiverse amd64 Packages [34.5 kB]\n",
            "Get:25 http://archive.ubuntu.com/ubuntu bionic-updates/universe amd64 Packages [2,238 kB]\n",
            "Get:26 http://ppa.launchpad.net/deadsnakes/ppa/ubuntu bionic/main amd64 Packages [45.3 kB]\n",
            "Get:27 http://ppa.launchpad.net/graphics-drivers/ppa/ubuntu bionic/main amd64 Packages [44.7 kB]\n",
            "Fetched 13.7 MB in 5s (2,607 kB/s)\n",
            "Reading package lists... Done\n"
          ]
        }
      ]
    },
    {
      "cell_type": "code",
      "metadata": {
        "id": "_xKwTpATHqSe",
        "colab": {
          "base_uri": "https://localhost:8080/"
        },
        "outputId": "0b9513ea-eceb-43cc-ace8-2c858a4e396a"
      },
      "source": [
        "# Download the Postgres driver that will allow Spark to interact with Postgres.\n",
        "!wget https://jdbc.postgresql.org/download/postgresql-42.2.16.jar"
      ],
      "execution_count": null,
      "outputs": [
        {
          "output_type": "stream",
          "name": "stdout",
          "text": [
            "--2022-01-10 01:08:52--  https://jdbc.postgresql.org/download/postgresql-42.2.16.jar\n",
            "Resolving jdbc.postgresql.org (jdbc.postgresql.org)... 72.32.157.228, 2001:4800:3e1:1::228\n",
            "Connecting to jdbc.postgresql.org (jdbc.postgresql.org)|72.32.157.228|:443... connected.\n",
            "HTTP request sent, awaiting response... 200 OK\n",
            "Length: 1002883 (979K) [application/java-archive]\n",
            "Saving to: ‘postgresql-42.2.16.jar’\n",
            "\n",
            "postgresql-42.2.16. 100%[===================>] 979.38K  5.58MB/s    in 0.2s    \n",
            "\n",
            "2022-01-10 01:08:52 (5.58 MB/s) - ‘postgresql-42.2.16.jar’ saved [1002883/1002883]\n",
            "\n"
          ]
        }
      ]
    },
    {
      "cell_type": "code",
      "metadata": {
        "id": "MMqDAjVS0KN9"
      },
      "source": [
        "from pyspark.sql import SparkSession\n",
        "spark = SparkSession.builder.appName(\"M16-Amazon-Challenge\").config(\"spark.driver.extraClassPath\",\"/content/postgresql-42.2.16.jar\").getOrCreate()"
      ],
      "execution_count": null,
      "outputs": []
    },
    {
      "cell_type": "markdown",
      "metadata": {
        "id": "cyBsySGuY-9V"
      },
      "source": [
        "### Load Amazon Data into Spark DataFrame"
      ]
    },
    {
      "cell_type": "code",
      "metadata": {
        "id": "CtCmBhQJY-9Z",
        "colab": {
          "base_uri": "https://localhost:8080/"
        },
        "outputId": "d8bff82a-d8c9-458b-93b3-c2cb2351706b"
      },
      "source": [
        "from pyspark import SparkFiles\n",
        "url = \"https://s3.amazonaws.com/amazon-reviews-pds/tsv/amazon_reviews_us_Pet_Products_v1_00.tsv.gz\"\n",
        "spark.sparkContext.addFile(url)\n",
        "df = spark.read.option(\"encoding\", \"UTF-8\").csv(SparkFiles.get(\"amazon_reviews_us_Pet_Products_v1_00.tsv.gz\"), sep=\"\\t\", header=True, inferSchema=True)\n",
        "df.show()"
      ],
      "execution_count": null,
      "outputs": [
        {
          "output_type": "stream",
          "name": "stdout",
          "text": [
            "+-----------+-----------+--------------+----------+--------------+--------------------+----------------+-----------+-------------+-----------+----+-----------------+--------------------+--------------------+-----------+\n",
            "|marketplace|customer_id|     review_id|product_id|product_parent|       product_title|product_category|star_rating|helpful_votes|total_votes|vine|verified_purchase|     review_headline|         review_body|review_date|\n",
            "+-----------+-----------+--------------+----------+--------------+--------------------+----------------+-----------+-------------+-----------+----+-----------------+--------------------+--------------------+-----------+\n",
            "|         US|   28794885| REAKC26P07MDN|B00Q0K9604|     510387886|(8-Pack) EZwhelp ...|    Pet Products|          5|            0|          0|   N|                Y|A great purchase ...|Best belly bands ...| 2015-08-31|\n",
            "|         US|   11488901|R3NU7OMZ4HQIEG|B00MBW5O9W|     912374672|Warren Eckstein's...|    Pet Products|          2|            0|          1|   N|                Y|My dogs love Hugs...|My dogs love Hugs...| 2015-08-31|\n",
            "|         US|   43214993|R14QJW3XF8QO1P|B0084OHUIO|     902215727|Tyson's True Chew...|    Pet Products|          5|            0|          0|   N|                Y|I have been purch...|I have been purch...| 2015-08-31|\n",
            "|         US|   12835065|R2HB7AX0394ZGY|B001GS71K2|     568880110|Soft Side Pet Cra...|    Pet Products|          5|            0|          0|   N|                Y|it is easy to ope...|It is extremely w...| 2015-08-31|\n",
            "|         US|   26334022| RGKMPDQGSAHR3|B004ABH1LG|     692846826|EliteField 3-Door...|    Pet Products|          5|            0|          0|   N|                Y|           Dog crate|Worked really wel...| 2015-08-31|\n",
            "|         US|   22283621|R1DJCVPQGCV66E|B00AX0LFM4|     590674141|Carlson 68-Inch W...|    Pet Products|          5|            0|          0|   N|                Y|          Five Stars|I love my gates! ...| 2015-08-31|\n",
            "|         US|   14469895|R3V52EAWLPBFQG|B00DQFZGZ0|     688538603|Dog Seat Cover Wi...|    Pet Products|          3|            0|          0|   N|                Y|Seat belt tugs on...|Didn't quite work...| 2015-08-31|\n",
            "|         US|   50896354|R3DKO8J1J28QBI|B00DIRF9US|     742358789|The Bird Catcher ...|    Pet Products|          2|            0|          0|   N|                Y|Great Pole, but S...|I had the origina...| 2015-08-31|\n",
            "|         US|   18440567| R764DBXGRNECG|B00JRCBFUG|     869798483|Cat Bed - Purrfec...|    Pet Products|          5|            1|          1|   N|                N|     My cat loves it|The pad is very s...| 2015-08-31|\n",
            "|         US|   50502362| RW1853GAT0Z9F|B000L3XYZ4|     501118658|PetSafe Drinkwell...|    Pet Products|          5|            0|          0|   N|                Y|          Five Stars|My cat drinks mor...| 2015-08-31|\n",
            "|         US|   33930128|R33GITXNUF1AD4|B00BOEXWFG|     454737777|Contech ZenDog Ca...|    Pet Products|          2|            0|          0|   N|                Y|Also had to pull ...|Much smaller than...| 2015-08-31|\n",
            "|         US|   43534290|R1H7AVM81TAYRV|B001HBBQKY|     420905252|Wellness Crunchy ...|    Pet Products|          1|            2|          2|   N|                Y|DO NOT PURCHASE -...|I used to love th...| 2015-08-31|\n",
            "|         US|   45555864|R2ZOYAQZNNZZWV|B007O1FHB0|     302588963|Rx Vitamins Essen...|    Pet Products|          5|            0|          0|   N|                Y|          Five Stars|Recommended by my...| 2015-08-31|\n",
            "|         US|   11147406|R2FN1H3CGW6J8H|B001P3NU30|     525778264|Virbac C.E.T. Enz...|    Pet Products|          1|            0|          0|   N|                Y|Received wrong pr...|Yes I  ordered fo...| 2015-08-31|\n",
            "|         US|    6495678| RJB41Q575XNG4|B00ZP6HS6S|     414117299|Kitty Shack - 2 i...|    Pet Products|          5|            0|          3|   N|                Y|          Five Stars|      It falls apart| 2015-08-31|\n",
            "|         US|    2019416|R28W8BM1587CPF|B00IP05CUA|     833937853|Wellness Kittles ...|    Pet Products|          5|            0|          0|   N|                Y|kitty is ravenous...|My cat really lov...| 2015-08-31|\n",
            "|         US|   40459386|R1II0M01NIG293|B001U8Y598|      85343577|OmniPet Anti-Ant ...|    Pet Products|          2|            0|          0|   N|                N|Maybe other speci...|This bowl is not ...| 2015-08-31|\n",
            "|         US|   23126800| RMB8N0DBRH34O|B011AY4JWO|     499241195|K9KONNECTION [New...|    Pet Products|          5|            1|          1|   N|                Y|This works, dog n...|I have a small do...| 2015-08-31|\n",
            "|         US|   30238476|R24WB6A6WVIPU6|B00DDSHE5A|     409532388|SUNSEED COMPANY 3...|    Pet Products|          5|            0|          0|   N|                Y|    Yummy for Bunny!|Bunny loves it! E...| 2015-08-31|\n",
            "|         US|   35113999| ROCJSH0P9YSRW|B00PJW5OR8|     259271919|CXB1983(TM)Cute P...|    Pet Products|          5|            0|          0|   N|                Y|excellent price, ...|Petfect,,quality ...| 2015-08-31|\n",
            "+-----------+-----------+--------------+----------+--------------+--------------------+----------------+-----------+-------------+-----------+----+-----------------+--------------------+--------------------+-----------+\n",
            "only showing top 20 rows\n",
            "\n"
          ]
        }
      ]
    },
    {
      "cell_type": "code",
      "metadata": {
        "id": "lzMmkdKmY--D",
        "colab": {
          "base_uri": "https://localhost:8080/"
        },
        "outputId": "53e032d8-880f-4172-c93d-8effe11cd792"
      },
      "source": [
        "# Create the vine_table. DataFrame\n",
        "vine_df = df.select([\"review_id\",\"star_rating\",\"helpful_votes\",\"total_votes\",\"vine\",\"verified_purchase\"]).dropDuplicates(([\"review_id\"]))\n",
        "vine_df.show()\n",
        "vine_df.dtypes"
      ],
      "execution_count": null,
      "outputs": [
        {
          "output_type": "stream",
          "name": "stdout",
          "text": [
            "+--------------+-----------+-------------+-----------+----+-----------------+\n",
            "|     review_id|star_rating|helpful_votes|total_votes|vine|verified_purchase|\n",
            "+--------------+-----------+-------------+-----------+----+-----------------+\n",
            "|R101CJ0JBI9J43|          5|            6|          6|   N|                Y|\n",
            "|R101P7GUI5O1WG|          5|            0|          0|   N|                Y|\n",
            "|R102LL91IX39PK|          5|            0|          0|   N|                Y|\n",
            "|R102YVSWWEAP5K|          5|            0|          0|   N|                Y|\n",
            "|R1042WRU1WDUHY|          5|            7|          8|   N|                Y|\n",
            "|R104G7VC1XPVOO|          5|            1|          1|   N|                Y|\n",
            "|R10557FTU9GHY8|          5|            0|          0|   N|                Y|\n",
            "|R105B7Y5ALJ45D|          5|            1|          1|   N|                Y|\n",
            "|R105C41QCCFLIN|          5|            0|          0|   N|                Y|\n",
            "|R105MO44HU33PJ|          5|            0|          0|   N|                Y|\n",
            "|R10685DHJNVEZJ|          2|            0|          0|   N|                Y|\n",
            "|R106BUZ44UVDHE|          4|            0|          0|   N|                Y|\n",
            "|R106K51LXXJPUW|          5|            0|          1|   N|                N|\n",
            "|R106SFDWB44AB7|          5|            0|          0|   N|                Y|\n",
            "|R10788GH1II82B|          4|            0|          0|   N|                Y|\n",
            "|R107GHGGOLZ5BJ|          5|            0|          0|   N|                Y|\n",
            "|R107WIWXTW4YSL|          5|            0|          0|   N|                Y|\n",
            "|R108DOA6BB41HZ|          5|            0|          0|   N|                Y|\n",
            "|R108VYYR4WVDJW|          5|            0|          1|   N|                Y|\n",
            "|R108X7YL6QQ630|          5|            0|          0|   N|                Y|\n",
            "+--------------+-----------+-------------+-----------+----+-----------------+\n",
            "only showing top 20 rows\n",
            "\n"
          ]
        },
        {
          "output_type": "execute_result",
          "data": {
            "text/plain": [
              "[('review_id', 'string'),\n",
              " ('star_rating', 'int'),\n",
              " ('helpful_votes', 'int'),\n",
              " ('total_votes', 'int'),\n",
              " ('vine', 'string'),\n",
              " ('verified_purchase', 'string')]"
            ]
          },
          "metadata": {},
          "execution_count": 7
        }
      ]
    },
    {
      "cell_type": "code",
      "metadata": {
        "id": "Exuo6ebUsCqW",
        "colab": {
          "base_uri": "https://localhost:8080/"
        },
        "outputId": "cacc877c-5354-4a7e-e4d3-37536aae6ff1"
      },
      "source": [
        "#Filter to retrieve all rows where total_votes >=20\n",
        "filtered_vine_df = vine_df.filter(\"total_votes >=20\")\n",
        "filtered_vine_df.show()"
      ],
      "execution_count": null,
      "outputs": [
        {
          "output_type": "stream",
          "name": "stdout",
          "text": [
            "+--------------+-----------+-------------+-----------+----+-----------------+\n",
            "|     review_id|star_rating|helpful_votes|total_votes|vine|verified_purchase|\n",
            "+--------------+-----------+-------------+-----------+----+-----------------+\n",
            "| R11YMYHSPNGA9|          5|          112|        117|   N|                Y|\n",
            "|R12E1DPQO0PSC5|          5|           55|         57|   N|                N|\n",
            "|R12Q28Q3H61LJ4|          5|           47|         47|   N|                Y|\n",
            "|R12ZZBLV20KHZN|          5|           21|         24|   N|                Y|\n",
            "|R14RP0JIFZOU0F|          1|            9|         26|   N|                Y|\n",
            "|R15ERI6B6F5POS|          5|           27|         29|   N|                Y|\n",
            "|R162U5PSTTFDRY|          5|           30|         31|   N|                N|\n",
            "|R17HY9US9BLH1T|          1|           75|         81|   N|                Y|\n",
            "|R18E8DQJPSW932|          4|           25|         26|   N|                N|\n",
            "|R18YQ6WBZM7CTR|          1|           25|         25|   N|                Y|\n",
            "|R19V1JU0BUV5K4|          5|           46|         48|   N|                Y|\n",
            "|R1A6SE12U7STW5|          5|          124|        128|   N|                Y|\n",
            "|R1B907P87Y5XFR|          1|           44|         46|   N|                Y|\n",
            "|R1CJLZ221OGY95|          1|           30|         33|   N|                Y|\n",
            "|R1CXNO95584QNL|          5|          183|        189|   N|                N|\n",
            "|R1G0WYZ1BU1VJ1|          5|           79|         84|   N|                Y|\n",
            "|R1GMU984E863PS|          4|           59|         63|   N|                N|\n",
            "|R1H0IRPBFCP9CT|          5|           64|         69|   N|                Y|\n",
            "|R1H2B5DPNQGP8G|          5|          114|        119|   N|                Y|\n",
            "|R1HBUEULF37C33|          5|           40|         43|   N|                Y|\n",
            "+--------------+-----------+-------------+-----------+----+-----------------+\n",
            "only showing top 20 rows\n",
            "\n"
          ]
        }
      ]
    },
    {
      "cell_type": "code",
      "source": [
        "#Create DataFrame of rows where helpful_votes / total_votes =>50%\n",
        "helpful_df = filtered_vine_df.filter(\"(helpful_votes / total_votes)>=.5\")\n",
        "helpful_df.show()"
      ],
      "metadata": {
        "colab": {
          "base_uri": "https://localhost:8080/"
        },
        "id": "uCJFHlX3i8QJ",
        "outputId": "2a7800ab-566c-48b5-bed5-f5f4718a02ba"
      },
      "execution_count": null,
      "outputs": [
        {
          "output_type": "stream",
          "name": "stdout",
          "text": [
            "+--------------+-----------+-------------+-----------+----+-----------------+\n",
            "|     review_id|star_rating|helpful_votes|total_votes|vine|verified_purchase|\n",
            "+--------------+-----------+-------------+-----------+----+-----------------+\n",
            "| R11YMYHSPNGA9|          5|          112|        117|   N|                Y|\n",
            "|R12E1DPQO0PSC5|          5|           55|         57|   N|                N|\n",
            "|R12Q28Q3H61LJ4|          5|           47|         47|   N|                Y|\n",
            "|R12ZZBLV20KHZN|          5|           21|         24|   N|                Y|\n",
            "|R15ERI6B6F5POS|          5|           27|         29|   N|                Y|\n",
            "|R162U5PSTTFDRY|          5|           30|         31|   N|                N|\n",
            "|R17HY9US9BLH1T|          1|           75|         81|   N|                Y|\n",
            "|R18E8DQJPSW932|          4|           25|         26|   N|                N|\n",
            "|R18YQ6WBZM7CTR|          1|           25|         25|   N|                Y|\n",
            "|R19V1JU0BUV5K4|          5|           46|         48|   N|                Y|\n",
            "|R1A6SE12U7STW5|          5|          124|        128|   N|                Y|\n",
            "|R1B907P87Y5XFR|          1|           44|         46|   N|                Y|\n",
            "|R1CJLZ221OGY95|          1|           30|         33|   N|                Y|\n",
            "|R1CXNO95584QNL|          5|          183|        189|   N|                N|\n",
            "|R1G0WYZ1BU1VJ1|          5|           79|         84|   N|                Y|\n",
            "|R1GMU984E863PS|          4|           59|         63|   N|                N|\n",
            "|R1H0IRPBFCP9CT|          5|           64|         69|   N|                Y|\n",
            "|R1H2B5DPNQGP8G|          5|          114|        119|   N|                Y|\n",
            "|R1HBUEULF37C33|          5|           40|         43|   N|                Y|\n",
            "|R1HLJ8SJ9EFDL3|          4|          126|        132|   N|                Y|\n",
            "+--------------+-----------+-------------+-----------+----+-----------------+\n",
            "only showing top 20 rows\n",
            "\n"
          ]
        }
      ]
    },
    {
      "cell_type": "code",
      "source": [
        "#Create DataFrame of rows where a review was part of a Vine program (vine == \"Y\")\n",
        "YVineProg_df = helpful_df.filter(\"vine == 'Y'\")\n",
        "YVineProg_df.show()"
      ],
      "metadata": {
        "colab": {
          "base_uri": "https://localhost:8080/"
        },
        "id": "n2VKNX1ij89v",
        "outputId": "a0705619-555d-4abc-c36b-b905b8072782"
      },
      "execution_count": null,
      "outputs": [
        {
          "output_type": "stream",
          "name": "stdout",
          "text": [
            "+--------------+-----------+-------------+-----------+----+-----------------+\n",
            "|     review_id|star_rating|helpful_votes|total_votes|vine|verified_purchase|\n",
            "+--------------+-----------+-------------+-----------+----+-----------------+\n",
            "|R2XLAQL0E2UPWQ|          4|           33|         34|   Y|                N|\n",
            "|R3F6KXGIFXQ3B6|          4|           40|         43|   Y|                N|\n",
            "| R761OO343LFQW|          3|           82|         93|   Y|                N|\n",
            "|R1XZXTP2UJR37K|          4|          127|        128|   Y|                N|\n",
            "|R1241UCQGRHCNH|          5|           72|         76|   Y|                N|\n",
            "|R1CN8C3E6GNUFO|          1|           29|         33|   Y|                N|\n",
            "|R2D1YV9RG1BD7K|          4|           18|         22|   Y|                N|\n",
            "|R380KQVSEH3PQT|          5|           26|         28|   Y|                N|\n",
            "| RAZ7HBRW7G0AX|          5|          313|        333|   Y|                N|\n",
            "|R21MHBZMJWQL1K|          4|           34|         36|   Y|                N|\n",
            "|R2H8O3GTX08CFP|          3|           29|         29|   Y|                N|\n",
            "|R10A5XNAP2Y4N7|          5|           33|         36|   Y|                N|\n",
            "|R2ZU6I8JDBZ1MC|          4|           43|         43|   Y|                N|\n",
            "|R2F97F5VXIC2LR|          5|           43|         43|   Y|                N|\n",
            "|R18N59529F1KGI|          4|           19|         20|   Y|                N|\n",
            "|R1DO1HZMA69EDJ|          5|           57|         61|   Y|                N|\n",
            "|R25FI3J7WWOYXM|          3|           55|         58|   Y|                N|\n",
            "|R219U1ALQIU8OW|          4|           34|         36|   Y|                N|\n",
            "|R223VFL5UNKNI9|          2|           30|         31|   Y|                N|\n",
            "|R1JORBU2J7HG3H|          5|           22|         25|   Y|                N|\n",
            "+--------------+-----------+-------------+-----------+----+-----------------+\n",
            "only showing top 20 rows\n",
            "\n"
          ]
        }
      ]
    },
    {
      "cell_type": "code",
      "source": [
        "#Create DataFrame of rows where a review was not part of a Vine program (vine == \"N\")\n",
        "NVineProg_df = helpful_df.filter(\"vine == 'N'\")\n",
        "NVineProg_df.show()"
      ],
      "metadata": {
        "colab": {
          "base_uri": "https://localhost:8080/"
        },
        "id": "I12lgvDckrzg",
        "outputId": "d055e1c4-1eeb-4233-cbd3-8177473f8135"
      },
      "execution_count": null,
      "outputs": [
        {
          "output_type": "stream",
          "name": "stdout",
          "text": [
            "+--------------+-----------+-------------+-----------+----+-----------------+\n",
            "|     review_id|star_rating|helpful_votes|total_votes|vine|verified_purchase|\n",
            "+--------------+-----------+-------------+-----------+----+-----------------+\n",
            "| R11YMYHSPNGA9|          5|          112|        117|   N|                Y|\n",
            "|R12E1DPQO0PSC5|          5|           55|         57|   N|                N|\n",
            "|R12Q28Q3H61LJ4|          5|           47|         47|   N|                Y|\n",
            "|R12ZZBLV20KHZN|          5|           21|         24|   N|                Y|\n",
            "|R15ERI6B6F5POS|          5|           27|         29|   N|                Y|\n",
            "|R162U5PSTTFDRY|          5|           30|         31|   N|                N|\n",
            "|R17HY9US9BLH1T|          1|           75|         81|   N|                Y|\n",
            "|R18E8DQJPSW932|          4|           25|         26|   N|                N|\n",
            "|R18YQ6WBZM7CTR|          1|           25|         25|   N|                Y|\n",
            "|R19V1JU0BUV5K4|          5|           46|         48|   N|                Y|\n",
            "|R1A6SE12U7STW5|          5|          124|        128|   N|                Y|\n",
            "|R1B907P87Y5XFR|          1|           44|         46|   N|                Y|\n",
            "|R1CJLZ221OGY95|          1|           30|         33|   N|                Y|\n",
            "|R1CXNO95584QNL|          5|          183|        189|   N|                N|\n",
            "|R1G0WYZ1BU1VJ1|          5|           79|         84|   N|                Y|\n",
            "|R1GMU984E863PS|          4|           59|         63|   N|                N|\n",
            "|R1H0IRPBFCP9CT|          5|           64|         69|   N|                Y|\n",
            "|R1H2B5DPNQGP8G|          5|          114|        119|   N|                Y|\n",
            "|R1HBUEULF37C33|          5|           40|         43|   N|                Y|\n",
            "|R1HLJ8SJ9EFDL3|          4|          126|        132|   N|                Y|\n",
            "+--------------+-----------+-------------+-----------+----+-----------------+\n",
            "only showing top 20 rows\n",
            "\n"
          ]
        }
      ]
    },
    {
      "cell_type": "code",
      "source": [
        "#Determine total number of reviews, number of 5-star reviews, and percentage of 5-star reviews - Paid\n",
        "YTotal_reviews = YVineProg_df.count()\n",
        "YTotal_reviews"
      ],
      "metadata": {
        "colab": {
          "base_uri": "https://localhost:8080/"
        },
        "id": "PRkqd7KflMpx",
        "outputId": "d4c34796-1049-4f93-e6bc-fcac2ead569e"
      },
      "execution_count": null,
      "outputs": [
        {
          "output_type": "execute_result",
          "data": {
            "text/plain": [
              "170"
            ]
          },
          "metadata": {},
          "execution_count": 34
        }
      ]
    },
    {
      "cell_type": "code",
      "source": [
        "#Determine total number of reviews, number of 5-star reviews, and percentage of 5-star reviews - Paid\n",
        "YFiveStar = YVineProg_df.filter(\"star_rating = 5\").count()\n",
        "YFiveStar"
      ],
      "metadata": {
        "colab": {
          "base_uri": "https://localhost:8080/"
        },
        "id": "F3BR9OCSrKU3",
        "outputId": "ce72af6e-2910-4e7e-b9f1-a18fe143dbc0"
      },
      "execution_count": null,
      "outputs": [
        {
          "output_type": "execute_result",
          "data": {
            "text/plain": [
              "65"
            ]
          },
          "metadata": {},
          "execution_count": 37
        }
      ]
    },
    {
      "cell_type": "code",
      "source": [
        "#Determine total number of reviews, number of 5-star reviews, and percentage of 5-star reviews - Paid\n",
        "YPercent = YFiveStar / YTotal_reviews\n",
        "YPercent"
      ],
      "metadata": {
        "colab": {
          "base_uri": "https://localhost:8080/"
        },
        "id": "-t4gmgz5rKaD",
        "outputId": "b731782d-7bf7-4cf7-dd00-6261fc0779ab"
      },
      "execution_count": null,
      "outputs": [
        {
          "output_type": "execute_result",
          "data": {
            "text/plain": [
              "0.38235294117647056"
            ]
          },
          "metadata": {},
          "execution_count": 38
        }
      ]
    },
    {
      "cell_type": "code",
      "source": [
        "#Determine total number of reviews, number of 5-star reviews, and percentage of 5-star reviews - UnPaid\n",
        "NTotal_reviews = NVineProg_df.count()\n",
        "NTotal_reviews"
      ],
      "metadata": {
        "colab": {
          "base_uri": "https://localhost:8080/"
        },
        "id": "Rjh87GH3oSEI",
        "outputId": "7937ea2a-826f-49b9-c37a-fdf6cdbb1514"
      },
      "execution_count": null,
      "outputs": [
        {
          "output_type": "execute_result",
          "data": {
            "text/plain": [
              "37840"
            ]
          },
          "metadata": {},
          "execution_count": 42
        }
      ]
    },
    {
      "cell_type": "code",
      "source": [
        "#Determine total number of reviews, number of 5-star reviews, and percentage of 5-star reviews - UnPaid\n",
        "NFiveStar = NVineProg_df.filter(\"star_rating = 5\").count()\n",
        "NFiveStar"
      ],
      "metadata": {
        "colab": {
          "base_uri": "https://localhost:8080/"
        },
        "id": "ok02zYb_rf5N",
        "outputId": "0f309e02-3a53-4e67-d819-188e08c2aee4"
      },
      "execution_count": null,
      "outputs": [
        {
          "output_type": "execute_result",
          "data": {
            "text/plain": [
              "20612"
            ]
          },
          "metadata": {},
          "execution_count": 44
        }
      ]
    },
    {
      "cell_type": "code",
      "source": [
        "#Determine total number of reviews, number of 5-star reviews, and percentage of 5-star reviews - UnPaid\n",
        "NPercent = NFiveStar / NTotal_reviews\n",
        "NPercent"
      ],
      "metadata": {
        "colab": {
          "base_uri": "https://localhost:8080/"
        },
        "id": "EpMNBv9vrgE_",
        "outputId": "c05dddce-2f25-4053-c873-c6f7e7ab39ee"
      },
      "execution_count": null,
      "outputs": [
        {
          "output_type": "execute_result",
          "data": {
            "text/plain": [
              "0.5447145877378435"
            ]
          },
          "metadata": {},
          "execution_count": 46
        }
      ]
    }
  ]
}